{
 "cells": [
  {
   "cell_type": "code",
   "execution_count": 1,
   "metadata": {},
   "outputs": [],
   "source": [
    "import pandas as pd\n",
    "from torchtext.data import TabularDataset\n",
    "from torchtext.data import Iterator\n",
    "from torchtext.data import BucketIterator\n",
    "from torch import nn\n",
    "from ProjDataset import ProjDataset\n",
    "from tqdm import tqdm\n",
    "from torch.utils.data import DataLoader\n",
    "import torch, pickle, random, os\n",
    "from torch.nn.utils.rnn import pad_sequence\n",
    "from torch.optim import Adam\n",
    "import torch.optim as optim\n",
    "from torch import nn\n",
    "from GRUNetwork import RNN_GRU\n",
    "import torch, spacy"
   ]
  },
  {
   "cell_type": "code",
   "execution_count": 2,
   "metadata": {},
   "outputs": [],
   "source": [
    "from torchtext.data import Field, BucketIterator"
   ]
  },
  {
   "cell_type": "code",
   "execution_count": 52,
   "metadata": {},
   "outputs": [],
   "source": [
    "d = pd.read_csv('data/dataframes/pop.csv')"
   ]
  },
  {
   "cell_type": "code",
   "execution_count": 57,
   "metadata": {},
   "outputs": [],
   "source": [
    "f = pd.read_csv('data/dataframes/training.csv')"
   ]
  },
  {
   "cell_type": "code",
   "execution_count": null,
   "metadata": {},
   "outputs": [],
   "source": []
  },
  {
   "cell_type": "code",
   "execution_count": 94,
   "metadata": {},
   "outputs": [],
   "source": [
    "TEXT = Field(tokenize = 'spacy',\n",
    "              tokenizer_language = 'en',\n",
    "              lower = True,\n",
    "              include_lengths=True,\n",
    "              sequential=True,\n",
    "              use_vocab=True\n",
    "            )\n",
    "LABEL = Field(sequential=False, use_vocab=False)"
   ]
  },
  {
   "cell_type": "code",
   "execution_count": 237,
   "metadata": {},
   "outputs": [],
   "source": [
    "lyric_datafield = [\n",
    "                 (\"lyrics\", TEXT),\n",
    "                 (\"genre\", LABEL)]"
   ]
  },
  {
   "cell_type": "code",
   "execution_count": 239,
   "metadata": {},
   "outputs": [],
   "source": [
    "\n",
    "\n",
    "\n",
    "train, tst = TabularDataset.splits('data/dataframes/',\n",
    "                                 train='pop.csv',\n",
    "                                 test ='testing.csv',\n",
    "                                 format ='csv',\n",
    "                                 fields = lyric_datafield,\n",
    "                                 skip_header=True)"
   ]
  },
  {
   "cell_type": "code",
   "execution_count": 202,
   "metadata": {},
   "outputs": [],
   "source": [
    "batch = next(iter(trn))"
   ]
  },
  {
   "cell_type": "code",
   "execution_count": 235,
   "metadata": {},
   "outputs": [],
   "source": [
    "d = pd.read_csv('data/dataframes/testing.csv')"
   ]
  },
  {
   "cell_type": "code",
   "execution_count": null,
   "metadata": {},
   "outputs": [],
   "source": []
  },
  {
   "cell_type": "code",
   "execution_count": 204,
   "metadata": {},
   "outputs": [],
   "source": [
    "TEXT.build_vocab(trn, max_size=100000, vectors=\"glove.6B.50d\")"
   ]
  },
  {
   "cell_type": "code",
   "execution_count": null,
   "metadata": {},
   "outputs": [],
   "source": []
  },
  {
   "cell_type": "code",
   "execution_count": 324,
   "metadata": {},
   "outputs": [],
   "source": [
    "traindl, testdl = BucketIterator.splits(datasets=(trn,tst), batch_sizes=(50,1),\n",
    "                     sort_key=lambda x: len(x.lyrics), device=None,\n",
    "                     sort_within_batch=True, repeat=False)\n",
    "            "
   ]
  },
  {
   "cell_type": "code",
   "execution_count": 206,
   "metadata": {},
   "outputs": [],
   "source": [
    "vocab_size = len(TEXT.vocab)\n",
    "embedding_dim = 50\n",
    "n_hidden =64\n",
    "n_out = 5"
   ]
  },
  {
   "cell_type": "code",
   "execution_count": 207,
   "metadata": {
    "code_folding": []
   },
   "outputs": [],
   "source": [
    "class BatchGenerator:\n",
    "    def __init__(self, dl, x_field, y_field):\n",
    "        self.dl, self.x_field, self.y_field = dl, x_field, y_field\n",
    "        \n",
    "    def __len__(self):\n",
    "        return len(self.dl)\n",
    "    \n",
    "    def __iter__(self):\n",
    "        for batch in self.dl:\n",
    "            X = getattr(batch, self.x_field)\n",
    "            y = getattr(batch, self.y_field)\n",
    "            yield (X,y)\n"
   ]
  },
  {
   "cell_type": "code",
   "execution_count": null,
   "metadata": {},
   "outputs": [],
   "source": []
  },
  {
   "cell_type": "code",
   "execution_count": 326,
   "metadata": {},
   "outputs": [],
   "source": [
    "train_batch_it = BatchGenerator(traindl, 'lyrics', 'genre')\n",
    "tst_batch_it = BatchGenerator(testdl, 'lyrics', 'genre')"
   ]
  },
  {
   "cell_type": "code",
   "execution_count": null,
   "metadata": {},
   "outputs": [],
   "source": []
  },
  {
   "cell_type": "code",
   "execution_count": 210,
   "metadata": {},
   "outputs": [],
   "source": [
    "device = 'cuda:01'"
   ]
  },
  {
   "cell_type": "code",
   "execution_count": 201,
   "metadata": {
    "code_folding": [
     5
    ]
   },
   "outputs": [],
   "source": [
    "from torch import nn\n",
    "import torch, spacy\n",
    "\n",
    "\n",
    "\n",
    "class RNN_GRU(nn.Module):\n",
    "    def __init__(self, vocab_size, seq_len, input_size, \n",
    "                 hidden_size, num_layers, output_size, \n",
    "                 device, dropout=0.0, pretrained_vectors=torch.Tensor,\n",
    "                 pretrained=bool):\n",
    "        super().__init__()\n",
    "        self.num_layers = num_layers\n",
    "        self.seq_len = seq_len\n",
    "        self.input_size = input_size\n",
    "        self.hidden_size = hidden_size\n",
    "        self.device = device\n",
    "        self.pretrained = pretrained\n",
    "        self.pretrained_vectors = pretrained_vectors\n",
    "        self.emb = nn.Embedding(vocab_size, input_size).to(device)\n",
    "        if pretrained == True:\n",
    "            self.emb.weight.data.copy_(pretrained_vectors)\n",
    "            self.emb.weight.requires_grad = False \n",
    "        \n",
    "        self.gru = nn.GRU(input_size, hidden_size,\n",
    "                          num_layers=self.num_layers, batch_first=True, dropout=dropout).to(device)\n",
    "        self.fc = nn.Linear(hidden_size * seq_len, output_size).to(device)\n",
    "\n",
    "    def forward(self, sequence, hidden_layer, device):\n",
    "        output = self.emb(sequence).to(device)\n",
    "        hidden_layer = hidden_layer.to(self.device)\n",
    "        output, hidden_layer = self.gru(output, hidden_layer)\n",
    "        output = output.contiguous().view(-1, self.hidden_size *\n",
    "                                          len(sequence[0]))\n",
    "        output = self.fc(output).to(device)\n",
    "\n",
    "        return output, hidden_layer\n",
    "\n",
    "    def init_hidden(self, batch_size):\n",
    "        return torch.zeros(self.num_layers, batch_size, self.hidden_size).float().to(self.device)\n",
    "\n"
   ]
  },
  {
   "cell_type": "code",
   "execution_count": 211,
   "metadata": {
    "code_folding": []
   },
   "outputs": [],
   "source": [
    "from torch.nn.utils.rnn import pack_padded_sequence\n",
    "from torch.nn.utils.rnn import pad_packed_sequence\n",
    "import torch.nn.functional as F\n",
    "\n",
    "class ConcatPoolingGRUAdaptive(nn.Module):\n",
    "    def __init__(self, vocab_size, embedding_dim, n_hidden, n_out, pretrained_vec):\n",
    "        super().__init__()\n",
    "        self.vocab_size = vocab_size\n",
    "        self.embedding_dim = embedding_dim\n",
    "        self.n_hidden = n_hidden\n",
    "        self.n_out = n_out\n",
    "        \n",
    "        self.emb = nn.Embedding(self.vocab_size, self.embedding_dim)\n",
    "        self.emb.weight.data.copy_(pretrained_vec) # load pretrained vectors\n",
    "        self.emb.weight.requires_grad = False # make embedding non trainable\n",
    "        self.gru = nn.GRU(self.embedding_dim, self.n_hidden)\n",
    "        self.out = nn.Linear(self.n_hidden*2, self.n_out)\n",
    "        \n",
    "    def forward(self, seq, lengths):\n",
    "        bs = seq.size(1)\n",
    "        self.h = self.init_hidden(bs)\n",
    "        seq = seq.transpose(0,1).to(device)\n",
    "        \n",
    "        embs = self.emb(seq)\n",
    "        embs = embs.transpose(0,1)\n",
    "        embs = pack_padded_sequence(embs, lengths, enforce_sorted=False)\n",
    "        \n",
    "        gru_out, self.h = self.gru(embs, self.h)\n",
    "        \n",
    "        gru_out, lengths = pad_packed_sequence(gru_out) \n",
    "        \n",
    "        avg_pool = F.adaptive_avg_pool1d(gru_out.permute(1,2,0),1).view(bs,-1)\n",
    "        max_pool = F.adaptive_max_pool1d(gru_out.permute(1,2,0),1).view(bs,-1)  \n",
    "        outp = self.out(torch.cat([avg_pool,max_pool],dim=1))\n",
    "        return F.log_softmax(outp, dim=-1)\n",
    "    \n",
    "    def init_hidden(self, batch_size): \n",
    "       return torch.zeros((1,batch_size,self.n_hidden)).cuda().to(device)\n",
    "        "
   ]
  },
  {
   "cell_type": "code",
   "execution_count": null,
   "metadata": {},
   "outputs": [],
   "source": []
  },
  {
   "cell_type": "code",
   "execution_count": 212,
   "metadata": {},
   "outputs": [],
   "source": [
    "pre_model = ConcatPoolingGRUAdaptive(vocab_size, embedding_dim, n_hidden,\n",
    "                                     n_out, pretrained_vec=TEXT.vocab.vectors).to(device)"
   ]
  },
  {
   "cell_type": "code",
   "execution_count": 213,
   "metadata": {},
   "outputs": [],
   "source": [
    "from tqdm import tqdm_notebook"
   ]
  },
  {
   "cell_type": "code",
   "execution_count": 332,
   "metadata": {
    "code_folding": []
   },
   "outputs": [
    {
     "data": {
      "application/vnd.jupyter.widget-view+json": {
       "model_id": "768b6932221a41d4bea7c2476765d611",
       "version_major": 2,
       "version_minor": 0
      },
      "text/plain": [
       "HBox(children=(IntProgress(value=0, max=20), HTML(value='')))"
      ]
     },
     "metadata": {},
     "output_type": "display_data"
    },
    {
     "data": {
      "application/vnd.jupyter.widget-view+json": {
       "model_id": "8056fb24c2454d41a54bf73391729d95",
       "version_major": 2,
       "version_minor": 0
      },
      "text/plain": [
       "HBox(children=(IntProgress(value=0, max=500), HTML(value='')))"
      ]
     },
     "metadata": {},
     "output_type": "display_data"
    },
    {
     "name": "stdout",
     "output_type": "stream",
     "text": [
      "\n",
      "Average loss at epoch 1: 0.8290459\n"
     ]
    },
    {
     "data": {
      "application/vnd.jupyter.widget-view+json": {
       "model_id": "ab771d043fd2496ea85a8ec2162dee28",
       "version_major": 2,
       "version_minor": 0
      },
      "text/plain": [
       "HBox(children=(IntProgress(value=0, max=500), HTML(value='')))"
      ]
     },
     "metadata": {},
     "output_type": "display_data"
    },
    {
     "name": "stdout",
     "output_type": "stream",
     "text": [
      "\n",
      "Average loss at epoch 2: 0.8178085\n"
     ]
    },
    {
     "data": {
      "application/vnd.jupyter.widget-view+json": {
       "model_id": "5b4e37cb1bbe41f2ba386383817c0ab9",
       "version_major": 2,
       "version_minor": 0
      },
      "text/plain": [
       "HBox(children=(IntProgress(value=0, max=500), HTML(value='')))"
      ]
     },
     "metadata": {},
     "output_type": "display_data"
    },
    {
     "name": "stdout",
     "output_type": "stream",
     "text": [
      "\n",
      "Average loss at epoch 3: 0.8070127\n"
     ]
    },
    {
     "data": {
      "application/vnd.jupyter.widget-view+json": {
       "model_id": "020fc0478a654b0ebf5058516036a7d5",
       "version_major": 2,
       "version_minor": 0
      },
      "text/plain": [
       "HBox(children=(IntProgress(value=0, max=500), HTML(value='')))"
      ]
     },
     "metadata": {},
     "output_type": "display_data"
    },
    {
     "name": "stdout",
     "output_type": "stream",
     "text": [
      "\n",
      "Average loss at epoch 4: 0.7949754\n"
     ]
    },
    {
     "data": {
      "application/vnd.jupyter.widget-view+json": {
       "model_id": "07e9766fa5e142d58e144a2d53f0039d",
       "version_major": 2,
       "version_minor": 0
      },
      "text/plain": [
       "HBox(children=(IntProgress(value=0, max=500), HTML(value='')))"
      ]
     },
     "metadata": {},
     "output_type": "display_data"
    },
    {
     "name": "stdout",
     "output_type": "stream",
     "text": [
      "\n",
      "Average loss at epoch 5: 0.7844466\n"
     ]
    },
    {
     "data": {
      "application/vnd.jupyter.widget-view+json": {
       "model_id": "36369bbf44bd4b2bac7b4648930d5ca1",
       "version_major": 2,
       "version_minor": 0
      },
      "text/plain": [
       "HBox(children=(IntProgress(value=0, max=500), HTML(value='')))"
      ]
     },
     "metadata": {},
     "output_type": "display_data"
    },
    {
     "name": "stdout",
     "output_type": "stream",
     "text": [
      "\n",
      "Average loss at epoch 6: 0.7722690\n"
     ]
    },
    {
     "data": {
      "application/vnd.jupyter.widget-view+json": {
       "model_id": "83af102fdbea486cb7085e5c7b5c781f",
       "version_major": 2,
       "version_minor": 0
      },
      "text/plain": [
       "HBox(children=(IntProgress(value=0, max=500), HTML(value='')))"
      ]
     },
     "metadata": {},
     "output_type": "display_data"
    },
    {
     "name": "stdout",
     "output_type": "stream",
     "text": [
      "\n",
      "Average loss at epoch 7: 0.7607746\n"
     ]
    },
    {
     "data": {
      "application/vnd.jupyter.widget-view+json": {
       "model_id": "241df2cad3f242faa8b0e76499f7645d",
       "version_major": 2,
       "version_minor": 0
      },
      "text/plain": [
       "HBox(children=(IntProgress(value=0, max=500), HTML(value='')))"
      ]
     },
     "metadata": {},
     "output_type": "display_data"
    },
    {
     "name": "stdout",
     "output_type": "stream",
     "text": [
      "\n",
      "Average loss at epoch 8: 0.7527369\n"
     ]
    },
    {
     "data": {
      "application/vnd.jupyter.widget-view+json": {
       "model_id": "02c8a842d04d4a0da061191c533c2871",
       "version_major": 2,
       "version_minor": 0
      },
      "text/plain": [
       "HBox(children=(IntProgress(value=0, max=500), HTML(value='')))"
      ]
     },
     "metadata": {},
     "output_type": "display_data"
    },
    {
     "name": "stdout",
     "output_type": "stream",
     "text": [
      "\n",
      "Average loss at epoch 9: 0.7385443\n"
     ]
    },
    {
     "data": {
      "application/vnd.jupyter.widget-view+json": {
       "model_id": "5b39dca697d2489c8285a737799ac63b",
       "version_major": 2,
       "version_minor": 0
      },
      "text/plain": [
       "HBox(children=(IntProgress(value=0, max=500), HTML(value='')))"
      ]
     },
     "metadata": {},
     "output_type": "display_data"
    },
    {
     "name": "stdout",
     "output_type": "stream",
     "text": [
      "\n",
      "Average loss at epoch 10: 0.7304832\n"
     ]
    },
    {
     "data": {
      "application/vnd.jupyter.widget-view+json": {
       "model_id": "cf3a374a0ddd47be87a0d67050596c22",
       "version_major": 2,
       "version_minor": 0
      },
      "text/plain": [
       "HBox(children=(IntProgress(value=0, max=500), HTML(value='')))"
      ]
     },
     "metadata": {},
     "output_type": "display_data"
    },
    {
     "name": "stdout",
     "output_type": "stream",
     "text": [
      "\n",
      "Average loss at epoch 11: 0.7187075\n"
     ]
    },
    {
     "data": {
      "application/vnd.jupyter.widget-view+json": {
       "model_id": "819022710cb64b2eac3ac39315f131c6",
       "version_major": 2,
       "version_minor": 0
      },
      "text/plain": [
       "HBox(children=(IntProgress(value=0, max=500), HTML(value='')))"
      ]
     },
     "metadata": {},
     "output_type": "display_data"
    },
    {
     "name": "stdout",
     "output_type": "stream",
     "text": [
      "\n",
      "Average loss at epoch 12: 0.7073429\n"
     ]
    },
    {
     "data": {
      "application/vnd.jupyter.widget-view+json": {
       "model_id": "cbe6f98404dd4bb19551ecfa7b30e90e",
       "version_major": 2,
       "version_minor": 0
      },
      "text/plain": [
       "HBox(children=(IntProgress(value=0, max=500), HTML(value='')))"
      ]
     },
     "metadata": {},
     "output_type": "display_data"
    },
    {
     "name": "stdout",
     "output_type": "stream",
     "text": [
      "\n",
      "Average loss at epoch 13: 0.6982067\n"
     ]
    },
    {
     "data": {
      "application/vnd.jupyter.widget-view+json": {
       "model_id": "0c02186486ad40c09a022402c490251b",
       "version_major": 2,
       "version_minor": 0
      },
      "text/plain": [
       "HBox(children=(IntProgress(value=0, max=500), HTML(value='')))"
      ]
     },
     "metadata": {},
     "output_type": "display_data"
    },
    {
     "name": "stdout",
     "output_type": "stream",
     "text": [
      "\n",
      "Average loss at epoch 14: 0.6857069\n"
     ]
    },
    {
     "data": {
      "application/vnd.jupyter.widget-view+json": {
       "model_id": "18ae2e628ad5464cb83c90fe419950d7",
       "version_major": 2,
       "version_minor": 0
      },
      "text/plain": [
       "HBox(children=(IntProgress(value=0, max=500), HTML(value='')))"
      ]
     },
     "metadata": {},
     "output_type": "display_data"
    },
    {
     "name": "stdout",
     "output_type": "stream",
     "text": [
      "\n",
      "Average loss at epoch 15: 0.6782147\n"
     ]
    },
    {
     "data": {
      "application/vnd.jupyter.widget-view+json": {
       "model_id": "e8dc26b875704f70a253765dc9bb54eb",
       "version_major": 2,
       "version_minor": 0
      },
      "text/plain": [
       "HBox(children=(IntProgress(value=0, max=500), HTML(value='')))"
      ]
     },
     "metadata": {},
     "output_type": "display_data"
    },
    {
     "name": "stdout",
     "output_type": "stream",
     "text": [
      "\n",
      "Average loss at epoch 16: 0.6659472\n"
     ]
    },
    {
     "data": {
      "application/vnd.jupyter.widget-view+json": {
       "model_id": "7a0ca7db5ec247868dc072a18e7692d6",
       "version_major": 2,
       "version_minor": 0
      },
      "text/plain": [
       "HBox(children=(IntProgress(value=0, max=500), HTML(value='')))"
      ]
     },
     "metadata": {},
     "output_type": "display_data"
    },
    {
     "name": "stdout",
     "output_type": "stream",
     "text": [
      "\n",
      "Average loss at epoch 17: 0.6535603\n"
     ]
    },
    {
     "data": {
      "application/vnd.jupyter.widget-view+json": {
       "model_id": "a105c3eea81c4445a6a146de206af25c",
       "version_major": 2,
       "version_minor": 0
      },
      "text/plain": [
       "HBox(children=(IntProgress(value=0, max=500), HTML(value='')))"
      ]
     },
     "metadata": {},
     "output_type": "display_data"
    },
    {
     "name": "stdout",
     "output_type": "stream",
     "text": [
      "\n",
      "Average loss at epoch 18: 0.6473791\n"
     ]
    },
    {
     "data": {
      "application/vnd.jupyter.widget-view+json": {
       "model_id": "de81510a772444c4b0f24692b90f8c5d",
       "version_major": 2,
       "version_minor": 0
      },
      "text/plain": [
       "HBox(children=(IntProgress(value=0, max=500), HTML(value='')))"
      ]
     },
     "metadata": {},
     "output_type": "display_data"
    },
    {
     "name": "stdout",
     "output_type": "stream",
     "text": [
      "\n",
      "Average loss at epoch 19: 0.6337539\n"
     ]
    },
    {
     "data": {
      "application/vnd.jupyter.widget-view+json": {
       "model_id": "546bd70ee58642feb7f5babaae7a8d40",
       "version_major": 2,
       "version_minor": 0
      },
      "text/plain": [
       "HBox(children=(IntProgress(value=0, max=500), HTML(value='')))"
      ]
     },
     "metadata": {},
     "output_type": "display_data"
    },
    {
     "name": "stdout",
     "output_type": "stream",
     "text": [
      "\n",
      "Average loss at epoch 20: 0.6274186\n",
      "\n"
     ]
    }
   ],
   "source": [
    "nr_of_epochs = 20\n",
    "pre_model.train()\n",
    "pre_model = pre_model.to(device)\n",
    "epoch_nr = 0\n",
    "EPOCH = list(range(nr_of_epochs))\n",
    "tenp = round(len(train_batch_it,) / 10)\n",
    "avg_loss = 0 \n",
    "criterion = nn.CrossEntropyLoss()\n",
    "optimizer = Adam(pre_model.parameters(), lr=0.001)\n",
    "for epoch in tqdm_notebook(EPOCH):\n",
    "    epoch_nr += 1\n",
    "    epoch_loss = []\n",
    "    count = 0\n",
    "    percent = 0\n",
    "    \n",
    "    for i in tqdm_notebook(train_batch_it):\n",
    "        \n",
    "        \n",
    "        x = i[0][0]\n",
    "        y = i[1].to(device)\n",
    "        lengths = i[0][1]\n",
    "        optimizer.zero_grad()\n",
    "        \n",
    "        try:\n",
    "            output = pre_model(x, lengths)\n",
    "        \n",
    "            loss = criterion(output, y.long())\n",
    "        \n",
    "            loss.backward()\n",
    "            epoch_loss.append(loss.item())\n",
    "            optimizer.step()\n",
    "            avg_loss = sum(epoch_loss) / len(epoch_loss)\n",
    "        except RuntimeError:\n",
    "            continue\n",
    "        \n",
    "    \n",
    "        \n",
    "        \n",
    "    print(\"Average loss at epoch %d: %.7f\" % (epoch_nr, avg_loss))\n",
    "    \n",
    "        "
   ]
  },
  {
   "cell_type": "code",
   "execution_count": 336,
   "metadata": {},
   "outputs": [
    {
     "data": {
      "application/vnd.jupyter.widget-view+json": {
       "model_id": "de8d0d5b16fe40278595c3da06902d00",
       "version_major": 2,
       "version_minor": 0
      },
      "text/plain": [
       "HBox(children=(IntProgress(value=0, max=250), HTML(value='')))"
      ]
     },
     "metadata": {},
     "output_type": "display_data"
    },
    {
     "name": "stdout",
     "output_type": "stream",
     "text": [
      "\n",
      "Model Accuracy: 60.8\n"
     ]
    }
   ],
   "source": [
    "correct = 0\n",
    "count = 0\n",
    "for i in tqdm_notebook(tst_batch_it):\n",
    "    \n",
    "    x = i[0][0]\n",
    "    y = i[1]\n",
    "    lengths = i[0][1]\n",
    "    try:\n",
    "        predictions = pre_model(x, lengths)\n",
    "        for prediction in zip(predictions,y):\n",
    "            count+=1\n",
    "            output, index = torch.max(prediction[0], 0)\n",
    "            if index.item() == y[0].item():\n",
    "                correct += 1\n",
    "\n",
    "    except:\n",
    "        continue\n",
    "accuracy = (correct / count) * 100\n",
    "\n",
    "print('Model Accuracy: {}'.format(accuracy))"
   ]
  },
  {
   "cell_type": "code",
   "execution_count": 334,
   "metadata": {},
   "outputs": [
    {
     "data": {
      "text/plain": [
       "250"
      ]
     },
     "execution_count": 334,
     "metadata": {},
     "output_type": "execute_result"
    }
   ],
   "source": [
    "count"
   ]
  },
  {
   "cell_type": "code",
   "execution_count": null,
   "metadata": {},
   "outputs": [],
   "source": [
    "model = RNN_GRU(vocab_size = len(TEXT.vocab), seq_len=300, input_size=300,\n",
    "               hidden_size = 128, num_layers = 2, output_size = 5,\n",
    "               device = 'cuda:01', dropout=0.01, pretrained_vectors=TEXT.vocab.vectors,pretrained=False)"
   ]
  },
  {
   "cell_type": "code",
   "execution_count": null,
   "metadata": {},
   "outputs": [],
   "source": [
    "device = 'cuda:01'\n",
    "batch_size = 200"
   ]
  },
  {
   "cell_type": "code",
   "execution_count": null,
   "metadata": {},
   "outputs": [],
   "source": [
    "from tqdm import tqdm_notebook"
   ]
  },
  {
   "cell_type": "code",
   "execution_count": null,
   "metadata": {},
   "outputs": [],
   "source": [
    "\n",
    "\n",
    "nr_of_epochs = 10\n",
    "criterion = nn.CrossEntropyLoss()\n",
    "optimizer = Adam(model.parameters(), lr=0.001)\n",
    "model.train()\n",
    "model = model.to(device)\n",
    "epoch_nr = 0\n",
    "EPOCH = list(range(nr_of_epochs))\n",
    "tenp = round(len(train_iter,) / 10)\n",
    "avg_loss = 0 \n",
    "\n",
    "for epoch in tqdm_notebook(EPOCH):\n",
    "    epoch_nr += 1\n",
    "    epoch_loss = []\n",
    "    h = model.init_hidden(200)\n",
    "    count = 0\n",
    "    percent = 0\n",
    "    for example in tqdm_notebook(train_iter):\n",
    "        count +=1\n",
    "        x = example.lyrics.to(device)\n",
    "        y = example.genre.to(device)\n",
    "        optimizer.zero_grad()\n",
    "        h = h.data\n",
    "        out, h = model(x, h, device)\n",
    "        loss = criterion(out, y.long())\n",
    "        loss.backward()\n",
    "        epoch_loss.append(loss.item())\n",
    "        optimizer.step()\n",
    "        avg_loss = sum(epoch_loss) / len(epoch_loss)\n",
    "    \n",
    "    print(\"Average loss at epoch %d: %.7f\" % (epoch_nr, avg_loss))\n",
    "    "
   ]
  },
  {
   "cell_type": "code",
   "execution_count": null,
   "metadata": {},
   "outputs": [],
   "source": [
    "count"
   ]
  },
  {
   "cell_type": "code",
   "execution_count": null,
   "metadata": {},
   "outputs": [],
   "source": [
    "accuracy"
   ]
  },
  {
   "cell_type": "code",
   "execution_count": null,
   "metadata": {},
   "outputs": [],
   "source": []
  }
 ],
 "metadata": {
  "kernelspec": {
   "display_name": "Python 3",
   "language": "python",
   "name": "python3"
  },
  "language_info": {
   "codemirror_mode": {
    "name": "ipython",
    "version": 3
   },
   "file_extension": ".py",
   "mimetype": "text/x-python",
   "name": "python",
   "nbconvert_exporter": "python",
   "pygments_lexer": "ipython3",
   "version": "3.7.4"
  }
 },
 "nbformat": 4,
 "nbformat_minor": 2
}
